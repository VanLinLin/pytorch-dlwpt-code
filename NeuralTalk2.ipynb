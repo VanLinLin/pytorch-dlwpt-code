{
 "cells": [
  {
   "cell_type": "code",
   "execution_count": 14,
   "metadata": {},
   "outputs": [
    {
     "name": "stdout",
     "output_type": "stream",
     "text": [
      "DataLoaderRaw loading images from folder:  ./data/p1ch2/image\n",
      "0\n",
      "listing all images in directory ./data/p1ch2/image\n",
      "DataLoaderRaw found  1  images\n"
     ]
    },
    {
     "ename": "RuntimeError",
     "evalue": "Expected all tensors to be on the same device, but found at least two devices, cpu and cuda:0! (when checking argument for argument mat1 in method wrapper_addmm)",
     "output_type": "error",
     "traceback": [
      "\u001b[1;31m---------------------------------------------------------------------------\u001b[0m",
      "\u001b[1;31mRuntimeError\u001b[0m                              Traceback (most recent call last)",
      "File \u001b[1;32mD:\\my_project\\pytorch\\pytorch-dlwpt-code\\eval.py:132\u001b[0m\n\u001b[0;32m    128\u001b[0m loader\u001b[39m.\u001b[39mix_to_word \u001b[39m=\u001b[39m infos[\u001b[39m'\u001b[39m\u001b[39mvocab\u001b[39m\u001b[39m'\u001b[39m]\n\u001b[0;32m    131\u001b[0m \u001b[39m# Set sample options\u001b[39;00m\n\u001b[1;32m--> 132\u001b[0m loss, split_predictions, lang_stats \u001b[39m=\u001b[39m eval_utils\u001b[39m.\u001b[39;49meval_split(\n\u001b[0;32m    133\u001b[0m     model, crit, loader,\n\u001b[0;32m    134\u001b[0m     \u001b[39mvars\u001b[39;49m(opt))\n\u001b[0;32m    136\u001b[0m \u001b[39mprint\u001b[39m(\u001b[39m'\u001b[39m\u001b[39mloss: \u001b[39m\u001b[39m'\u001b[39m, loss)\n\u001b[0;32m    137\u001b[0m \u001b[39mif\u001b[39;00m lang_stats:\n",
      "File \u001b[1;32mD:\\my_project\\pytorch\\pytorch-dlwpt-code\\eval_utils.py:106\u001b[0m, in \u001b[0;36meval_split\u001b[1;34m(model, crit, loader, eval_kwargs)\u001b[0m\n\u001b[0;32m    104\u001b[0m     fc_feats, att_feats \u001b[39m=\u001b[39m tmp\n\u001b[0;32m    105\u001b[0m     \u001b[39m# forward the model to also get generated samples for each image\u001b[39;00m\n\u001b[1;32m--> 106\u001b[0m     seq, _ \u001b[39m=\u001b[39m model\u001b[39m.\u001b[39;49msample(fc_feats, att_feats, eval_kwargs)\n\u001b[0;32m    107\u001b[0m seq \u001b[39m=\u001b[39m seq\u001b[39m.\u001b[39mcpu()\u001b[39m.\u001b[39mnumpy()\n\u001b[0;32m    109\u001b[0m \u001b[39m#set_trace()\u001b[39;00m\n",
      "File \u001b[1;32mD:\\my_project\\pytorch\\pytorch-dlwpt-code\\models\\FCModel.py:160\u001b[0m, in \u001b[0;36mFCModel.sample\u001b[1;34m(self, fc_feats, att_feats, opt)\u001b[0m\n\u001b[0;32m    158\u001b[0m temperature \u001b[39m=\u001b[39m opt\u001b[39m.\u001b[39mget(\u001b[39m'\u001b[39m\u001b[39mtemperature\u001b[39m\u001b[39m'\u001b[39m, \u001b[39m1.0\u001b[39m)\n\u001b[0;32m    159\u001b[0m \u001b[39mif\u001b[39;00m beam_size \u001b[39m>\u001b[39m \u001b[39m1\u001b[39m:\n\u001b[1;32m--> 160\u001b[0m     \u001b[39mreturn\u001b[39;00m \u001b[39mself\u001b[39;49m\u001b[39m.\u001b[39;49msample_beam(fc_feats, att_feats, opt)\n\u001b[0;32m    162\u001b[0m batch_size \u001b[39m=\u001b[39m fc_feats\u001b[39m.\u001b[39msize(\u001b[39m0\u001b[39m)\n\u001b[0;32m    163\u001b[0m state \u001b[39m=\u001b[39m \u001b[39mself\u001b[39m\u001b[39m.\u001b[39minit_hidden(batch_size)\n",
      "File \u001b[1;32mD:\\my_project\\pytorch\\pytorch-dlwpt-code\\models\\FCModel.py:141\u001b[0m, in \u001b[0;36mFCModel.sample_beam\u001b[1;34m(self, fc_feats, att_feats, opt)\u001b[0m\n\u001b[0;32m    139\u001b[0m \u001b[39mfor\u001b[39;00m t \u001b[39min\u001b[39;00m \u001b[39mrange\u001b[39m(\u001b[39m2\u001b[39m):\n\u001b[0;32m    140\u001b[0m     \u001b[39mif\u001b[39;00m t \u001b[39m==\u001b[39m \u001b[39m0\u001b[39m:\n\u001b[1;32m--> 141\u001b[0m         xt \u001b[39m=\u001b[39m \u001b[39mself\u001b[39;49m\u001b[39m.\u001b[39;49mimg_embed(fc_feats[k:k\u001b[39m+\u001b[39;49m\u001b[39m1\u001b[39;49m])\u001b[39m.\u001b[39mexpand(beam_size, \u001b[39mself\u001b[39m\u001b[39m.\u001b[39minput_encoding_size)\n\u001b[0;32m    142\u001b[0m     \u001b[39melif\u001b[39;00m t \u001b[39m==\u001b[39m \u001b[39m1\u001b[39m: \u001b[39m# input <bos>\u001b[39;00m\n\u001b[0;32m    143\u001b[0m         it \u001b[39m=\u001b[39m fc_feats\u001b[39m.\u001b[39mdata\u001b[39m.\u001b[39mnew(beam_size)\u001b[39m.\u001b[39mlong()\u001b[39m.\u001b[39mzero_()\n",
      "File \u001b[1;32mD:\\python\\Python39\\lib\\site-packages\\torch\\nn\\modules\\module.py:1130\u001b[0m, in \u001b[0;36mModule._call_impl\u001b[1;34m(self, *input, **kwargs)\u001b[0m\n\u001b[0;32m   1126\u001b[0m \u001b[39m# If we don't have any hooks, we want to skip the rest of the logic in\u001b[39;00m\n\u001b[0;32m   1127\u001b[0m \u001b[39m# this function, and just call forward.\u001b[39;00m\n\u001b[0;32m   1128\u001b[0m \u001b[39mif\u001b[39;00m \u001b[39mnot\u001b[39;00m (\u001b[39mself\u001b[39m\u001b[39m.\u001b[39m_backward_hooks \u001b[39mor\u001b[39;00m \u001b[39mself\u001b[39m\u001b[39m.\u001b[39m_forward_hooks \u001b[39mor\u001b[39;00m \u001b[39mself\u001b[39m\u001b[39m.\u001b[39m_forward_pre_hooks \u001b[39mor\u001b[39;00m _global_backward_hooks\n\u001b[0;32m   1129\u001b[0m         \u001b[39mor\u001b[39;00m _global_forward_hooks \u001b[39mor\u001b[39;00m _global_forward_pre_hooks):\n\u001b[1;32m-> 1130\u001b[0m     \u001b[39mreturn\u001b[39;00m forward_call(\u001b[39m*\u001b[39m\u001b[39minput\u001b[39m, \u001b[39m*\u001b[39m\u001b[39m*\u001b[39mkwargs)\n\u001b[0;32m   1131\u001b[0m \u001b[39m# Do not call functions when jit is used\u001b[39;00m\n\u001b[0;32m   1132\u001b[0m full_backward_hooks, non_full_backward_hooks \u001b[39m=\u001b[39m [], []\n",
      "File \u001b[1;32mD:\\python\\Python39\\lib\\site-packages\\torch\\nn\\modules\\linear.py:114\u001b[0m, in \u001b[0;36mLinear.forward\u001b[1;34m(self, input)\u001b[0m\n\u001b[0;32m    113\u001b[0m \u001b[39mdef\u001b[39;00m \u001b[39mforward\u001b[39m(\u001b[39mself\u001b[39m, \u001b[39minput\u001b[39m: Tensor) \u001b[39m-\u001b[39m\u001b[39m>\u001b[39m Tensor:\n\u001b[1;32m--> 114\u001b[0m     \u001b[39mreturn\u001b[39;00m F\u001b[39m.\u001b[39;49mlinear(\u001b[39minput\u001b[39;49m, \u001b[39mself\u001b[39;49m\u001b[39m.\u001b[39;49mweight, \u001b[39mself\u001b[39;49m\u001b[39m.\u001b[39;49mbias)\n",
      "\u001b[1;31mRuntimeError\u001b[0m: Expected all tensors to be on the same device, but found at least two devices, cpu and cuda:0! (when checking argument for argument mat1 in method wrapper_addmm)"
     ]
    }
   ],
   "source": [
    "%run eval.py --model ./data/FC/fc-model.pth --infos_path ./data/FC/fc-infos.pkl --image_folder ./data/p1ch2/image"
   ]
  },
  {
   "cell_type": "code",
   "execution_count": null,
   "metadata": {},
   "outputs": [],
   "source": []
  }
 ],
 "metadata": {
  "kernelspec": {
   "display_name": "Python 3.9.13 ('.pytorch': venv)",
   "language": "python",
   "name": "python3"
  },
  "language_info": {
   "codemirror_mode": {
    "name": "ipython",
    "version": 3
   },
   "file_extension": ".py",
   "mimetype": "text/x-python",
   "name": "python",
   "nbconvert_exporter": "python",
   "pygments_lexer": "ipython3",
   "version": "3.9.13"
  },
  "orig_nbformat": 4,
  "vscode": {
   "interpreter": {
    "hash": "cc5b9d8a2ca51afa0c79cc48e9cc69716a4c4258c225cafa078a7c609dcf4e2a"
   }
  }
 },
 "nbformat": 4,
 "nbformat_minor": 2
}
